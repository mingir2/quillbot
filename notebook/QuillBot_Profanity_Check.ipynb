{
  "nbformat": 4,
  "nbformat_minor": 0,
  "metadata": {
    "colab": {
      "name": "QuillBot Profanity Check.ipynb",
      "provenance": []
    },
    "kernelspec": {
      "name": "python3",
      "display_name": "Python 3"
    }
  },
  "cells": [
    {
      "cell_type": "code",
      "metadata": {
        "id": "IaRuqR2sbuqR",
        "colab_type": "code",
        "colab": {
          "base_uri": "https://localhost:8080/",
          "height": 163
        },
        "outputId": "ddd8e681-c7e2-421b-db63-cd6c6615a982"
      },
      "source": [
        "!pip install profanity-check"
      ],
      "execution_count": null,
      "outputs": [
        {
          "output_type": "stream",
          "text": [
            "Collecting profanity-check\n",
            "\u001b[?25l  Downloading https://files.pythonhosted.org/packages/26/dd/bdbfe61f11b328a583960ece9145a3e080082475f52f9f56795b22ab4c41/profanity_check-1.0.3-py3-none-any.whl (2.4MB)\n",
            "\u001b[K     |████████████████████████████████| 2.4MB 3.3MB/s \n",
            "\u001b[?25hRequirement already satisfied: scikit-learn>=0.20.2 in /usr/local/lib/python3.6/dist-packages (from profanity-check) (0.22.2.post1)\n",
            "Requirement already satisfied: scipy>=0.17.0 in /usr/local/lib/python3.6/dist-packages (from scikit-learn>=0.20.2->profanity-check) (1.4.1)\n",
            "Requirement already satisfied: joblib>=0.11 in /usr/local/lib/python3.6/dist-packages (from scikit-learn>=0.20.2->profanity-check) (0.14.1)\n",
            "Requirement already satisfied: numpy>=1.11.0 in /usr/local/lib/python3.6/dist-packages (from scikit-learn>=0.20.2->profanity-check) (1.18.3)\n",
            "Installing collected packages: profanity-check\n",
            "Successfully installed profanity-check-1.0.3\n"
          ],
          "name": "stdout"
        }
      ]
    },
    {
      "cell_type": "code",
      "metadata": {
        "id": "xz3K2K39dNUz",
        "colab_type": "code",
        "colab": {}
      },
      "source": [
        "import json\n",
        "import requests\n",
        "\n",
        "def getQuill(text):\n",
        "  url = \"https://quillbot.p.rapidapi.com/paraphrase\"\n",
        "\n",
        "  payload = dict(\n",
        "      text=text,\n",
        "      numParaphrases=1,\n",
        "      includeSegs=True,\n",
        "      strength=3,\n",
        "      autoflip=0.25,\n",
        "  )\n",
        "\n",
        "  headers = {\n",
        "      'x-rapidapi-host': \"quillbot.p.rapidapi.com\",\n",
        "      'x-rapidapi-key': \"4e26127674msh44f405456fbb569p15cdd2jsn41c7e4a8bdd5\",\n",
        "      'content-type': \"application/json\",\n",
        "      'accept': \"application/json\"\n",
        "      }\n",
        "\n",
        "  response = requests.request(\"POST\", url, data=json.dumps(payload), headers=headers)\n",
        "  return response.text"
      ],
      "execution_count": null,
      "outputs": []
    },
    {
      "cell_type": "code",
      "metadata": {
        "id": "wRr6abl_ciWn",
        "colab_type": "code",
        "colab": {}
      },
      "source": [
        "import pandas as pd\n",
        "import numpy as np\n",
        "from profanity_check import predict, predict_prob\n",
        "from sklearn.model_selection import train_test_split"
      ],
      "execution_count": null,
      "outputs": []
    },
    {
      "cell_type": "code",
      "metadata": {
        "id": "8xX9MN1XcdPT",
        "colab_type": "code",
        "colab": {
          "base_uri": "https://localhost:8080/",
          "height": 391
        },
        "outputId": "1805eb92-2e41-42e7-bfe3-9df56a0601dc"
      },
      "source": [
        "df = pd.read_csv(\"https://raw.githubusercontent.com/vzhou842/profanity-check/master/profanity_check/data/clean_data.csv\")\n",
        "df"
      ],
      "execution_count": null,
      "outputs": [
        {
          "output_type": "execute_result",
          "data": {
            "text/html": [
              "<div>\n",
              "<style scoped>\n",
              "    .dataframe tbody tr th:only-of-type {\n",
              "        vertical-align: middle;\n",
              "    }\n",
              "\n",
              "    .dataframe tbody tr th {\n",
              "        vertical-align: top;\n",
              "    }\n",
              "\n",
              "    .dataframe thead th {\n",
              "        text-align: right;\n",
              "    }\n",
              "</style>\n",
              "<table border=\"1\" class=\"dataframe\">\n",
              "  <thead>\n",
              "    <tr style=\"text-align: right;\">\n",
              "      <th></th>\n",
              "      <th>is_offensive</th>\n",
              "      <th>text</th>\n",
              "    </tr>\n",
              "  </thead>\n",
              "  <tbody>\n",
              "    <tr>\n",
              "      <th>0</th>\n",
              "      <td>0</td>\n",
              "      <td>Then go to the village pump and suggest they c...</td>\n",
              "    </tr>\n",
              "    <tr>\n",
              "      <th>1</th>\n",
              "      <td>1</td>\n",
              "      <td>ANTI GREEK NATIONALIS -WIKIPEDIA \\n\\nHi Alexik...</td>\n",
              "    </tr>\n",
              "    <tr>\n",
              "      <th>2</th>\n",
              "      <td>1</td>\n",
              "      <td>Dis hoe wasnt dis violent on Lottery Ticket 😂😂</td>\n",
              "    </tr>\n",
              "    <tr>\n",
              "      <th>3</th>\n",
              "      <td>0</td>\n",
              "      <td>It is better for Atabay not helping the banned...</td>\n",
              "    </tr>\n",
              "    <tr>\n",
              "      <th>4</th>\n",
              "      <td>0</td>\n",
              "      <td>\"is in CamelCase.  \"\"SiCKO\"\" is not CamelCase,...</td>\n",
              "    </tr>\n",
              "    <tr>\n",
              "      <th>...</th>\n",
              "      <td>...</td>\n",
              "      <td>...</td>\n",
              "    </tr>\n",
              "    <tr>\n",
              "      <th>184349</th>\n",
              "      <td>0</td>\n",
              "      <td>Template:uw-vandalism2 &gt;  | Talk</td>\n",
              "    </tr>\n",
              "    <tr>\n",
              "      <th>184350</th>\n",
              "      <td>1</td>\n",
              "      <td>Regrets are for pussies. Shit happens, deal w...</td>\n",
              "    </tr>\n",
              "    <tr>\n",
              "      <th>184351</th>\n",
              "      <td>0</td>\n",
              "      <td>Could this possibly be the origin of popular g...</td>\n",
              "    </tr>\n",
              "    <tr>\n",
              "      <th>184352</th>\n",
              "      <td>0</td>\n",
              "      <td>\"Your article submission has been declined, an...</td>\n",
              "    </tr>\n",
              "    <tr>\n",
              "      <th>184353</th>\n",
              "      <td>0</td>\n",
              "      <td>.\\nEditors can not move articles except inside...</td>\n",
              "    </tr>\n",
              "  </tbody>\n",
              "</table>\n",
              "<p>184354 rows × 2 columns</p>\n",
              "</div>"
            ],
            "text/plain": [
              "        is_offensive                                               text\n",
              "0                  0  Then go to the village pump and suggest they c...\n",
              "1                  1  ANTI GREEK NATIONALIS -WIKIPEDIA \\n\\nHi Alexik...\n",
              "2                  1     Dis hoe wasnt dis violent on Lottery Ticket 😂😂\n",
              "3                  0  It is better for Atabay not helping the banned...\n",
              "4                  0  \"is in CamelCase.  \"\"SiCKO\"\" is not CamelCase,...\n",
              "...              ...                                                ...\n",
              "184349             0                   Template:uw-vandalism2 >  | Talk\n",
              "184350             1   Regrets are for pussies. Shit happens, deal w...\n",
              "184351             0  Could this possibly be the origin of popular g...\n",
              "184352             0  \"Your article submission has been declined, an...\n",
              "184353             0  .\\nEditors can not move articles except inside...\n",
              "\n",
              "[184354 rows x 2 columns]"
            ]
          },
          "metadata": {
            "tags": []
          },
          "execution_count": 4
        }
      ]
    },
    {
      "cell_type": "code",
      "metadata": {
        "id": "IB0W_POygIBK",
        "colab_type": "code",
        "colab": {}
      },
      "source": [
        "off = df[df[\"is_offensive\"] == 1]\n",
        "X = off['text'].astype(str)\n",
        "Y = off['is_offensive']\n",
        "x_train, x_test, y_train, y_test = train_test_split(X, Y, test_size=0.001, random_state = 42)"
      ],
      "execution_count": null,
      "outputs": []
    },
    {
      "cell_type": "code",
      "metadata": {
        "id": "Cp1_8YdtgwJj",
        "colab_type": "code",
        "colab": {
          "base_uri": "https://localhost:8080/",
          "height": 635
        },
        "outputId": "c1f3b923-c8c3-40be-9178-3924541057da"
      },
      "source": [
        "x_test"
      ],
      "execution_count": null,
      "outputs": [
        {
          "output_type": "execute_result",
          "data": {
            "text/plain": [
              "13844     “@MutateRoos: You can be Seminoles but not red...\n",
              "12752     \"HOW DO YOU KNOW MY TWITTER PASSWORD\" bitch pl...\n",
              "179998    Refactoring\\nDo not refactor my comments again...\n",
              "65303               you're a cunt\\ngo die in a fire kthx <3\n",
              "65023                Obama ain't playin with these hoes... \n",
              "58621     Nuke Sweden! Go probe urself with an anal prob...\n",
              "91730     \"\\n\\nWhy should I give a fuck! LEAVE ME ALONE,...\n",
              "172679    \"\\n\\nJoe Johnston is honestly an idiot and has...\n",
              "111853    I'm a big bitch and 4 is the GOAT  I'm too laz...\n",
              "133154    I hate the white trash cops who raped and murd...\n",
              "70734     Always good to have the ignorant and mentally ...\n",
              "30868      bitches say \"or nah\" with everything I'm cute...\n",
              "34383     First problem ParacusForward like most wiki ed...\n",
              "87999     \"\\n\\n Very serious stuff \\n\\nSherlock Holms, a...\n",
              "103853    FUCK YOU DICK LICKS! \\n\\nYou guys will never b...\n",
              "14680     laughable censorship \\n\\ni see that a post i d...\n",
              "85746     \"Wow! This is unbelievably sexist and demeanin...\n",
              "83943     I just love that \"tweaking hoe tweaking hoe so...\n",
              "28038     i was never mean to you after we broke up ,you...\n",
              "65347     Dear Yandman \\n\\nFuck you, do not censor me, c...\n",
              "39830     Your so-called contributions\\nWill you have th...\n",
              "141280    \"=Reliable sources===\\nCheating:\\n\"\"Barry Bond...\n",
              "161189    very short and very clear \\n\\nslaves - to gas ...\n",
              "26411         How you put ya hoes before ya girlfriend .. 😴\n",
              "62803                        ya pussy stank @_ANGELSAMUELS \n",
              "112591    STOP!\\n\\nJtkiefer, you had better stop putting...\n",
              "31223     Let a bitch say I got a small dick on god I'll...\n",
              "167422     Who got time to be \"having dem hoes\"!? That's...\n",
              "94418     @MrMooncricket @RacistNegro69 rape? Of course....\n",
              "125609    @wclemons @thejoelberggren @anthonycumia you l...\n",
              "124835    \"\\n\\nWhatever I'm leaving this shit hole. Wiki...\n",
              "86930     That's okay minivan, you can run that red ligh...\n",
              "170908    Slim Virgin\\n\\nYou are a mindless, stupid assh...\n",
              "507                             @don07052 that nigguh sucks\n",
              "24945         Diana is a fucking bitch nigger piece of shit\n",
              "46704     My Thoughts \\n\\nYou're a fucking piece of shit...\n",
              "118809     Yeah we can't wrestle, might have to rock bot...\n",
              "Name: text, dtype: object"
            ]
          },
          "metadata": {
            "tags": []
          },
          "execution_count": 63
        }
      ]
    },
    {
      "cell_type": "code",
      "metadata": {
        "id": "kVRiw-jqgzKL",
        "colab_type": "code",
        "colab": {
          "base_uri": "https://localhost:8080/",
          "height": 33
        },
        "outputId": "761e4b63-eedd-4707-89ab-0daaf9e6b582"
      },
      "source": [
        "baseline = len(x_test)\n",
        "score =np.sum(predict(x_test)) \n",
        "baseline, score"
      ],
      "execution_count": null,
      "outputs": [
        {
          "output_type": "execute_result",
          "data": {
            "text/plain": [
              "(37, 32)"
            ]
          },
          "metadata": {
            "tags": []
          },
          "execution_count": 68
        }
      ]
    },
    {
      "cell_type": "code",
      "metadata": {
        "id": "rZv10zyriDqM",
        "colab_type": "code",
        "colab": {
          "base_uri": "https://localhost:8080/",
          "height": 1000
        },
        "outputId": "f1f3451f-ea9b-4e5d-d205-99496cc6da60"
      },
      "source": [
        "def getQuillSet(x_test):\n",
        "  res = []\n",
        "  for x in x_test:\n",
        "    print(x)\n",
        "    quill = getQuill(x)\n",
        "    quillList = json.loads(quill)\n",
        "    for entry in quillList:\n",
        "      print(entry[\"paraphrases\"][0][\"alt\"])\n",
        "      res.append(entry[\"paraphrases\"][0][\"alt\"])\n",
        "  return res\n",
        "quillSet = getQuillSet(x_test)\n",
        "quillSet"
      ],
      "execution_count": null,
      "outputs": [
        {
          "output_type": "stream",
          "text": [
            "“@MutateRoos: You can be Seminoles but not redskins? K”Seminole tribe got an agreement with them..fsu pay them to use the name\n",
            "\"@mutateroos: can you be a seminol but not a redskin?\n",
            "k'seminole tribe got an deal with them to use the name.fu pay them\n",
            "\"HOW DO YOU KNOW MY TWITTER PASSWORD\" bitch please\n",
            "\"How do you know my secret Facebook\" slut open\n",
            "Refactoring\n",
            "Do not refactor my comments again. You have been in dispute with me in the past, and perhaps you don't like me, but you have no business mucking about with what I have ot say. If you object to any of my comments feel free to bring them up at the appropriate noticeboard, but do not fuck with them again. Thanks.\n",
            "Refactoring Should not re-engineer my remarks.\n",
            "In the past, you've been in disagreement with me, and maybe you don't trust me, but you don't have much to do with what I've said.\n",
            " If you object to any of my comments, please put them up on the correct noticeboard, just don't screw them again.\n",
            "thank you.\n",
            "you're a cunt\n",
            "go die in a fire kthx <3\n",
            "you are a slut go died in a kthx explosion <3\n",
            " Obama ain't playin with these hoes... \n",
            " For these hoes, Obama is not running...\n",
            "Nuke Sweden! Go probe urself with an anal probe. F*ckhead.\n",
            "nuke sweden to you!\n",
            "go try an anal probe on yourself.\n",
            "f * blackhead.\n",
            "\"\n",
            "\n",
            "Why should I give a fuck! LEAVE ME ALONE, YOU RETARDED ADMINISTRATORS!!! Suspicion \"\n",
            "\"Why would i give a goddamn fuck! leave me alone, you stupid admins!!!\n",
            "\"\n",
            "\n",
            "Joe Johnston is honestly an idiot and has been blabbing about JP4 for almost 10 years. The JP trilogy is dead. The new film, if there will even be one, won't use the JP4 title. It's really stupid and annoying how much information contradicts each other.  (mailbox) \"\n",
            "\"joe johnston is really an fool who has been blabbing about jp4 for almost 10 years. the jp series is gone. if there is only one, the latest film does not have the jp4 title. it's very confusing and irritating how much knowledge contradicts one another.\n",
            "I'm a big bitch and 4 is the GOAT  I'm too lazy for 4.\n",
            "i'm a big bitch and i'm 4 a goat i'm too fat for four.\n",
            "I hate the white trash cops who raped and murdered my infant daughters and son.\n",
            "i hate the white cops who raped my young daughters and son and killed him.\n",
            "Always good to have the ignorant and mentally defective getting together. Die soon\n",
            "often nice being together with the weak and mentally defective.\n",
            "Soon to die\n",
            " bitches say \"or nah\" with everything I'm cute 💁 or nah? chillin wit my bro ; suck his dick or nah? 🍆👅💦 tracks showin \n",
            "bitches tell \"or nah\" for anything i'm good or similar to?\n",
            "chillin wit my brother; suck his fuckin' fuckin' or nah?\n",
            "âĢ¢ display tracks\n",
            "First problem ParacusForward like most wiki editors you don't understand the subject but wiki functions like a micropedia if they want more information the real people's encyclopaediais called Google. Either you don't understand the problems of getting past the big brother police state of Manipur where people are terrified to report the truth or you don't care. I thought perhaps this might be a place to release info but I noticed the spike in info came from reports available via google. One national tv company followed by a local newspaper broke the story on the death threats and hate mail. Then the gangsters responded in an Indian national tabloid. Now they are trying to put the djinn back into the bottle. I don't think you are necessarily malicious the police and security forces wouldn't have to pay you to supress the truth. You are clearly racist or if you prefer the more encylopaediac term ethnocentric. One of the sources the only one I saw that was completely incorrect is a Chinese Government Human Rights Agency. They are not so hot on Tibet and can be truthful on non chinese human rights abuses but in Manipur they have close links with the major human rights NGO which has long been run by the local police. I am sure things will happen but since you haven't got any interest in updating it none will report it here. I don't believe it is helpful either. Wiki did not allow the 24 hours grace to support to keep my fiancee alive again not out of malice but because of aspergers syndrome. I am sending her Hard Times if you haven't read it Wiki does a good summary they are also good for things like definition of satyagraha but for up to date info Google is the first port of call or Twitter. So anyway good luck with your project but the manner in which a few ignorant racist wiki editors claim ownership of this venture with nobody else having the courage to challenge them in case they too are red handed by a confederacy of dunces will make it less relevant. It is far from accurate or up to date. Mainly because editors like you do not have sufficient background understanding of hte politics and culture of the articles you edit. Before I began editing wiki hadn't updated info for several years. No doubt now you will accept unchallenged the false government reports which because they carry the weight of Chinese Propaganda agencies and local newspapers wholly intimidated by the Manipur State and corrupt police will now stand unchallenged by the editors who look only at code grammar and syntax and have no understanding of hte problems of truth reporting from within a police state of the third world. Idiots like you will also complain how your own press are not independent.\n",
            "first paracusforward issue like most wiki editors you don't understand the topic, but if you want more information about the real people's internet called google, wiki works like a micropedia.\n",
            "Perhaps you don't grasp the problems of going through manipur's big brother police state where people are afraid of telling the facts or you don't matter.\n",
            "i figured maybe this was a place to release data but i found that the surge in details came from google posts.\n",
            "one national media channel accompanied by a local newspaper broke the story of threats of death and hate mail.\n",
            "The gangsters then replied in a national Indian newspaper.\n",
            " We now try to put the djinn back in the bottle.\n",
            "I don't believe the police and security forces wouldn't have to bribe you to hide the truth, obviously you are evil.\n",
            "you are simply racial, or the more encylopedic word ethnocentric you choose.\n",
            "a chinese government human rights department is one of the few outlets i found that was absolutely wrong.\n",
            "they are not so hot on tibet and may be frank about non-chinese human rights abusses, but they have strong ties in manipur with the main human rights ngo that the local police have been operating for long.\n",
            "i'm sure things are going to happen but since you're not interested in changing it, none of you should mention it online.\n",
            "i don't think it is effective either.\n",
            "wiki didn't give the 24-hour grace to help having my fiancee alive again, not out of spite but aspergers syndrome.\n",
            "i'm giving her hard times if you haven't read it wiki does a decent overview they're always useful for stuff like satyagraha meaning so google is the first call port or twitter for up-to-date data.\n",
            "so good luck with your project anyway, but the fact some stupid racist wiki editors assume possession of this enterprise with no one else having the nerve to threaten them in case they too are handed over by a dunce confederacy will make it less important.\n",
            "it's far from accurate, or up to date.\n",
            "mainly because editors like you don't have adequate historical knowledge of the hte history and culture of the papers you write.\n",
            "before i started editing wiki for many years i hadn't changed the details.\n",
            "no doubt you will now accept unchallenged fake government stories which, as they bear the weight of chinese media agencies and local newspapers completely dominated by the manipur state and corrupt police, will now be unchallenged by editors who only look at code grammar and syntax and have no knowledge of the hte problems of reality reporting from within a thi police state.\n",
            "idiots like you would even whine about how trustworthy your own paper is not.\n",
            "\"\n",
            "\n",
            " Very serious stuff \n",
            "\n",
            "Sherlock Holms, and his sidekick Watson, are out camping on a dark clear\n",
            "moonless night.\n",
            "\n",
            "In the middle of the night, Watson is suddenly, and perhaps even indignantly\n",
            "awakened, by the famed detective, who says to him, \"\"Watson, look up at the\n",
            "night sky, and tell me what you deduce?\"\" To which Watson, rubbing his eyes\n",
            "for a moment, responds, saying, \"\"Well, let me see now. There are stars,\n",
            "countless stars in the sky, and I can even see the Milky Way galaxy. And so,\n",
            "if those stars that I can see clearly with the naked eye are themselves only\n",
            "a small fraction of the total number of stars, then by logical deduction\n",
            "there may be and likely are countless more that I cannot see. Now, if only a\n",
            "small percentage of those stars were to have planets, and of those, if only\n",
            "a small portion would to contain solar systems like our own, and of all of\n",
            "THOSE stars, even if only a small portion were to contain planets similar to\n",
            "ours, which have the capability to house life, and THEN IF, of all THOSE\n",
            "living planets encircling THOSE stars, there were some, which were able to\n",
            "house intelligent life, then I would be forced to conclude by logical\n",
            "inference, that there may be countless stars, around which circle planets\n",
            "just like ours housing intelligent sentient life forms, perhaps not unlike\n",
            "ourselves even, right here, and now.\n",
            "\n",
            "Watson listened through this long winded diatribe with patience, and then\n",
            "finally albowed Watson hard, and exclaimed,\n",
            "\n",
            "\"\"You idiot Watson! Somebody stole our tent!\"\"\"\n",
            "\"Some bad things sherlock holms and his sidekick watson are camping on a quiet, bright moonless night. in the middle of the night, watson is abruptly, and maybe even indignantly startled, by the renowned detective who says to him, \"watson, look up to the night sky, and tell me what you deduce?\" to which watson, rubbing his eyes for a moment, reacts, saying, \"oh, let me see now.\n",
            "FUCK YOU DICK LICKS! \n",
            "\n",
            "You guys will never be free of Konob untill he is UN BLOCKED!!!! If he gets unblocked then the vandilism will stop!!!\n",
            "FUCK YOU THE LICKS!\n",
            "You guys are never going to be safe from Konob until he's BLOCKED!!!!\n",
            "if he gets unblocked it will save the vandilism!!!\n",
            "laughable censorship \n",
            "\n",
            "i see that a post i did in the moon hoax article was ofcourse censored...\n",
            "\n",
            "fuck you all admins\n",
            "i see that a post i did in the moon hoax article was censored of course...\n",
            "Fuck all you admins\n",
            "\"Wow! This is unbelievably sexist and demeaning. You punish me for complaining about being called a \"\"cunt\"\" and having having the words \"\"cock shit\"\" and \"\"fucking\"\" used against me repeatedly. That essentially condones that type of conduct.\n",
            "\n",
            "\"\n",
            "\"Damn! It is extremely sexist and demeaning. You blame me for moaning for being called a \"cunt\" and having repeatedly used the words \"\"cock piss\"\" and \"\"fucking\".\" Which basically condones that kind of behaviour.\"\n",
            "I just love that \"tweaking hoe tweaking hoe song that's the only part I no 🙈 wee be getting money so we ball out some sme sme\n",
            "i really love the \"tweaking hoe tuning hoe song that's the only part i don't have any money but we're taking some sme sme out\n",
            "i was never mean to you after we broke up ,you keep making me seem like an ass. i never went off to party and fuck bitches\n",
            "since we broke up, i was never meant to you, you keep making me feel like an fool.\n",
            "i have never gone to club and fucking bitches\n",
            "Dear Yandman \n",
            "\n",
            "Fuck you, do not censor me, cuntface. I think my point about French people being smelly frogs is very valid, it is not a matter of opinion. You go to hell you dirty bitch.\n",
            "Hugs and kisses\n",
            "Your secret admirer\n",
            "Dear Fuck Yandman, don't muzzle me, cuntface.\n",
            "i think that my point about the french people being smelly frogs is really true, it's not an opinion problem.\n",
            "you're going to fuck you filthy slut.\n",
            "kisses and hugs your double admirer\n",
            "Your so-called contributions\n",
            "Will you have the decency to stop deleting every little thing I upload, you are being a bloody nuisance. Don't think that I'll stop on your account.\n",
            "your so-called donations would you have the courtesy to stop playing away with all the little stuff i post, you're a bloody nuisance.\n",
            "don't imagine i'm going to stop there on your page.\n",
            "\"=Reliable sources===\n",
            "Cheating:\n",
            "\"\"Barry Bonds:Cheater\"\" from CBS, yea I kinda think that is reliable. \n",
            "\"\"Dear Barry Bonds, You are either an outright cheater or very stupid\"\" from the USA Today \n",
            "\"\"Yes, Barry Bonds is a cheater. He is a cheater of the worst sort\"\" \n",
            "Lying:\n",
            "\"\"It's clear, Barry Bonds' a liar\"\" New York Daily News, another pretty freakin' reliable source. \n",
            "\"\"Barry Lamar Bonds is a bad man\"\" Baseball Digest \n",
            "\"\"but Bonds is a liar, a cheater, a whiner and a bad influence on America's youth\"\"  Mark Barnes\n",
            "\n",
            "==\"\n",
            "\"=reliable sources=== cheating:\"\"barry bonds:cheater\"\" from cbs, yea i almost hope that's accurate. \"\"dear barry bonds, you're either an outright cheater or really naive\"\" from the usa today \"\"yeah, barry bonds is a cheater. he's a cheater of the worst kind\"\" lying: \"it's obvious, barry bonds is a liar\"\" new york daily news, another pretty freakin' credible source. \"\"barry lamar bonds is a poor story.\n",
            "very short and very clear \n",
            "\n",
            "slaves - to gas chambers.\n",
            "Slaves very short and very transparent - to gas chambers.\n",
            " How you put ya hoes before ya girlfriend .. 😴\n",
            " Why you put hoes in front of your mother..\n",
            "********\n",
            " ya pussy stank @_ANGELSAMUELS \n",
            "@_angelsamuels you pussy stank\n",
            "STOP!\n",
            "\n",
            "Jtkiefer, you had better stop putting all that stupid junk on my IP page.  read it.  you'll see what i'll do if you do it again.  ======Anna05======\n",
            "Stand!\n",
            "jtkiefer, it was best you quit putting the dumb garbage on my ip list.\n",
            "read this story.\n",
            "If you try it again, you'll see what i am going to do.\n",
            "===========================_\n",
            "Let a bitch say I got a small dick on god I'll whip that shit out and show everyone in the room what I got. Blessed.\n",
            "Let a slut say I've got a little dick on god I'm going to pull out this ass and show everyone in the house what I got.\n",
            " Good.\n",
            " Who got time to be \"having dem hoes\"!? That's aint wassup no more\n",
            "Who had time to \"grab dem hoes\"!?\n",
            "that is no more aint wassup\n",
            "@MrMooncricket @RacistNegro69 rape? Of course.. The only way you could get pussy. Smh\n",
            "@racistnegro69 rape @mrmooncricket?\n",
            "needless to mention..\n",
            "the best way to get pussy.\n",
            "\n",
            "@wclemons @thejoelberggren @anthonycumia you little fag. At least I will fuck a Woman to have kids. Plus work to support them. Hipster homo\n",
            "@Wclemons @thejoelberggren You little fag.\n",
            "At least I'm gonna screw a lady for having babies.\n",
            "and work to back them up.\n",
            "female hipster\n",
            "\"\n",
            "\n",
            "Whatever I'm leaving this shit hole. Wikipedia is filled with biased neo-conservatives who don't even follow their own policies. Administrators break the rules, and when confronted they come up with stupid excuses like \"\"Wikilawyering\"\".\n",
            "\n",
            " \"\n",
            "\"Whatever I leave this shit hole. Wikipedia is filled with biased neo-conservatives who don't even follow their own policies. Administrators break the rules and come up with stupid excuses such as \"\"Wikilawyering\"\"\" when confronted.\"\n",
            "That's okay minivan, you can run that red light, I'm sure your nail appointment is more important than my life. bitch\n",
            "That's all right, minivan, you should hit the red light, I'm sure your nail rendezvous is more important than my life.\n",
            "Fuckin'\n",
            "Slim Virgin\n",
            "\n",
            "You are a mindless, stupid asshole, and are hooked on a power kick. You are also, sadly, neither slim nor a virgin.\n",
            "Slim Virgin You are a stupid, mindless asshole and you're hooked on a power kick.\n",
            "You too, sadly, are neither slim nor virgin.\n",
            "@don07052 that nigguh sucks\n",
            " The nigguh rocks @don07052\n",
            "Diana is a fucking bitch nigger piece of shit\n",
            "diana is a piece of fucking slut nigger\n",
            "My Thoughts \n",
            "\n",
            "You're a fucking piece of shit! Die and Burn in hell!\n",
            "my feelings you're a piece of fucking shit!\n",
            "Burn and die in Hell!\n",
            " Yeah we can't wrestle, might have to rock bottom you foreal \"@VeronicaGK: I'm a big bitch and proud lol let me live\"\n",
            "Hey we can't wrestle, maybe you'll have to rock \"@VeronicaGK: I'm a huge slut and proud lol so let me live\"\n"
          ],
          "name": "stdout"
        },
        {
          "output_type": "execute_result",
          "data": {
            "text/plain": [
              "['\"@mutateroos: can you be a seminol but not a redskin?',\n",
              " \"k'seminole tribe got an deal with them to use the name.fu pay them\",\n",
              " '\"How do you know my secret Facebook\" slut open',\n",
              " 'Refactoring Should not re-engineer my remarks.',\n",
              " \"In the past, you've been in disagreement with me, and maybe you don't trust me, but you don't have much to do with what I've said.\",\n",
              " \" If you object to any of my comments, please put them up on the correct noticeboard, just don't screw them again.\",\n",
              " 'thank you.',\n",
              " 'you are a slut go died in a kthx explosion <3',\n",
              " ' For these hoes, Obama is not running...',\n",
              " 'nuke sweden to you!',\n",
              " 'go try an anal probe on yourself.',\n",
              " 'f * blackhead.',\n",
              " '\"Why would i give a goddamn fuck! leave me alone, you stupid admins!!!',\n",
              " '\"joe johnston is really an fool who has been blabbing about jp4 for almost 10 years. the jp series is gone. if there is only one, the latest film does not have the jp4 title. it\\'s very confusing and irritating how much knowledge contradicts one another.',\n",
              " \"i'm a big bitch and i'm 4 a goat i'm too fat for four.\",\n",
              " 'i hate the white cops who raped my young daughters and son and killed him.',\n",
              " 'often nice being together with the weak and mentally defective.',\n",
              " 'Soon to die',\n",
              " 'bitches tell \"or nah\" for anything i\\'m good or similar to?',\n",
              " \"chillin wit my brother; suck his fuckin' fuckin' or nah?\",\n",
              " 'âĢ¢ display tracks',\n",
              " \"first paracusforward issue like most wiki editors you don't understand the topic, but if you want more information about the real people's internet called google, wiki works like a micropedia.\",\n",
              " \"Perhaps you don't grasp the problems of going through manipur's big brother police state where people are afraid of telling the facts or you don't matter.\",\n",
              " 'i figured maybe this was a place to release data but i found that the surge in details came from google posts.',\n",
              " 'one national media channel accompanied by a local newspaper broke the story of threats of death and hate mail.',\n",
              " 'The gangsters then replied in a national Indian newspaper.',\n",
              " ' We now try to put the djinn back in the bottle.',\n",
              " \"I don't believe the police and security forces wouldn't have to bribe you to hide the truth, obviously you are evil.\",\n",
              " 'you are simply racial, or the more encylopedic word ethnocentric you choose.',\n",
              " 'a chinese government human rights department is one of the few outlets i found that was absolutely wrong.',\n",
              " 'they are not so hot on tibet and may be frank about non-chinese human rights abusses, but they have strong ties in manipur with the main human rights ngo that the local police have been operating for long.',\n",
              " \"i'm sure things are going to happen but since you're not interested in changing it, none of you should mention it online.\",\n",
              " \"i don't think it is effective either.\",\n",
              " \"wiki didn't give the 24-hour grace to help having my fiancee alive again, not out of spite but aspergers syndrome.\",\n",
              " \"i'm giving her hard times if you haven't read it wiki does a decent overview they're always useful for stuff like satyagraha meaning so google is the first call port or twitter for up-to-date data.\",\n",
              " 'so good luck with your project anyway, but the fact some stupid racist wiki editors assume possession of this enterprise with no one else having the nerve to threaten them in case they too are handed over by a dunce confederacy will make it less important.',\n",
              " \"it's far from accurate, or up to date.\",\n",
              " \"mainly because editors like you don't have adequate historical knowledge of the hte history and culture of the papers you write.\",\n",
              " \"before i started editing wiki for many years i hadn't changed the details.\",\n",
              " 'no doubt you will now accept unchallenged fake government stories which, as they bear the weight of chinese media agencies and local newspapers completely dominated by the manipur state and corrupt police, will now be unchallenged by editors who only look at code grammar and syntax and have no knowledge of the hte problems of reality reporting from within a thi police state.',\n",
              " 'idiots like you would even whine about how trustworthy your own paper is not.',\n",
              " '\"Some bad things sherlock holms and his sidekick watson are camping on a quiet, bright moonless night. in the middle of the night, watson is abruptly, and maybe even indignantly startled, by the renowned detective who says to him, \"watson, look up to the night sky, and tell me what you deduce?\" to which watson, rubbing his eyes for a moment, reacts, saying, \"oh, let me see now.',\n",
              " 'FUCK YOU THE LICKS!',\n",
              " \"You guys are never going to be safe from Konob until he's BLOCKED!!!!\",\n",
              " 'if he gets unblocked it will save the vandilism!!!',\n",
              " 'i see that a post i did in the moon hoax article was censored of course...',\n",
              " 'Fuck all you admins',\n",
              " '\"Damn! It is extremely sexist and demeaning. You blame me for moaning for being called a \"cunt\" and having repeatedly used the words \"\"cock piss\"\" and \"\"fucking\".\" Which basically condones that kind of behaviour.\"',\n",
              " 'i really love the \"tweaking hoe tuning hoe song that\\'s the only part i don\\'t have any money but we\\'re taking some sme sme out',\n",
              " 'since we broke up, i was never meant to you, you keep making me feel like an fool.',\n",
              " 'i have never gone to club and fucking bitches',\n",
              " \"Dear Fuck Yandman, don't muzzle me, cuntface.\",\n",
              " \"i think that my point about the french people being smelly frogs is really true, it's not an opinion problem.\",\n",
              " \"you're going to fuck you filthy slut.\",\n",
              " 'kisses and hugs your double admirer',\n",
              " \"your so-called donations would you have the courtesy to stop playing away with all the little stuff i post, you're a bloody nuisance.\",\n",
              " \"don't imagine i'm going to stop there on your page.\",\n",
              " '\"=reliable sources=== cheating:\"\"barry bonds:cheater\"\" from cbs, yea i almost hope that\\'s accurate. \"\"dear barry bonds, you\\'re either an outright cheater or really naive\"\" from the usa today \"\"yeah, barry bonds is a cheater. he\\'s a cheater of the worst kind\"\" lying: \"it\\'s obvious, barry bonds is a liar\"\" new york daily news, another pretty freakin\\' credible source. \"\"barry lamar bonds is a poor story.',\n",
              " 'Slaves very short and very transparent - to gas chambers.',\n",
              " ' Why you put hoes in front of your mother..',\n",
              " '********',\n",
              " '@_angelsamuels you pussy stank',\n",
              " 'Stand!',\n",
              " 'jtkiefer, it was best you quit putting the dumb garbage on my ip list.',\n",
              " 'read this story.',\n",
              " \"If you try it again, you'll see what i am going to do.\",\n",
              " '===========================_',\n",
              " \"Let a slut say I've got a little dick on god I'm going to pull out this ass and show everyone in the house what I got.\",\n",
              " ' Good.',\n",
              " 'Who had time to \"grab dem hoes\"!?',\n",
              " 'that is no more aint wassup',\n",
              " '@racistnegro69 rape @mrmooncricket?',\n",
              " 'needless to mention..',\n",
              " 'the best way to get pussy.',\n",
              " '',\n",
              " '@Wclemons @thejoelberggren You little fag.',\n",
              " \"At least I'm gonna screw a lady for having babies.\",\n",
              " 'and work to back them up.',\n",
              " 'female hipster',\n",
              " '\"Whatever I leave this shit hole. Wikipedia is filled with biased neo-conservatives who don\\'t even follow their own policies. Administrators break the rules and come up with stupid excuses such as \"\"Wikilawyering\"\"\" when confronted.\"',\n",
              " \"That's all right, minivan, you should hit the red light, I'm sure your nail rendezvous is more important than my life.\",\n",
              " \"Fuckin'\",\n",
              " \"Slim Virgin You are a stupid, mindless asshole and you're hooked on a power kick.\",\n",
              " 'You too, sadly, are neither slim nor virgin.',\n",
              " ' The nigguh rocks @don07052',\n",
              " 'diana is a piece of fucking slut nigger',\n",
              " \"my feelings you're a piece of fucking shit!\",\n",
              " 'Burn and die in Hell!',\n",
              " 'Hey we can\\'t wrestle, maybe you\\'ll have to rock \"@VeronicaGK: I\\'m a huge slut and proud lol so let me live\"']"
            ]
          },
          "metadata": {
            "tags": []
          },
          "execution_count": 71
        }
      ]
    },
    {
      "cell_type": "code",
      "metadata": {
        "id": "edGXMs8ajezU",
        "colab_type": "code",
        "colab": {
          "base_uri": "https://localhost:8080/",
          "height": 33
        },
        "outputId": "560b33f7-1a0f-49e7-f39f-27c54c19ccc7"
      },
      "source": [
        "quillScore = np.sum(predict(quillSet))\n",
        "quillScore"
      ],
      "execution_count": null,
      "outputs": [
        {
          "output_type": "execute_result",
          "data": {
            "text/plain": [
              "31"
            ]
          },
          "metadata": {
            "tags": []
          },
          "execution_count": 72
        }
      ]
    },
    {
      "cell_type": "code",
      "metadata": {
        "id": "ZUd0GvV1lB5r",
        "colab_type": "code",
        "colab": {
          "base_uri": "https://localhost:8080/",
          "height": 33
        },
        "outputId": "918d1ba1-34f1-4123-f3b5-8444fe7ae094"
      },
      "source": [
        "len(quillSet)"
      ],
      "execution_count": null,
      "outputs": [
        {
          "output_type": "execute_result",
          "data": {
            "text/plain": [
              "89"
            ]
          },
          "metadata": {
            "tags": []
          },
          "execution_count": 77
        }
      ]
    },
    {
      "cell_type": "code",
      "metadata": {
        "id": "c0_QcWvDlGJq",
        "colab_type": "code",
        "colab": {
          "base_uri": "https://localhost:8080/",
          "height": 33
        },
        "outputId": "e811110b-3f9d-4a4d-ec65-3fd9ce228d6f"
      },
      "source": [
        "scoreProb = np.mean(predict_prob(x_test)) \n",
        "quillScoreProb = np.mean(predict_prob(quillSet))\n",
        "scoreProb, quillScoreProb"
      ],
      "execution_count": null,
      "outputs": [
        {
          "output_type": "execute_result",
          "data": {
            "text/plain": [
              "(0.8052124016534462, 0.37935217653388065)"
            ]
          },
          "metadata": {
            "tags": []
          },
          "execution_count": 78
        }
      ]
    },
    {
      "cell_type": "code",
      "metadata": {
        "id": "kaumrp-alvPs",
        "colab_type": "code",
        "colab": {}
      },
      "source": [
        ""
      ],
      "execution_count": null,
      "outputs": []
    }
  ]
}